{
 "cells": [
  {
   "cell_type": "code",
   "execution_count": 1,
   "metadata": {},
   "outputs": [],
   "source": [
    "# @title Import libraries\n",
    "import pandas as pd\n",
    "import re\n",
    "import requests"
   ]
  },
  {
   "cell_type": "code",
   "execution_count": 2,
   "metadata": {},
   "outputs": [],
   "source": [
    "# Scores data contains question metadata\n",
    "scores = pd.read_csv(f'https://data.heroku.com/dataclips/nudnpycciffydoeihwbtttlkwpcj.csv')\n",
    "\n",
    "fabQuestions = pd.read_csv('scores/Q4 2024 FAB - questions list - FINAL BOT.csv')"
   ]
  },
  {
   "cell_type": "code",
   "execution_count": 3,
   "metadata": {},
   "outputs": [],
   "source": [
    "# Rename first column to 'link'\n",
    "fabQuestions = fabQuestions.rename(columns={fabQuestions.columns[0]: 'link', 'title': 'question_title'})\n",
    "scores = scores.rename(columns={'question_id': 'bot_question_id'})"
   ]
  },
  {
   "cell_type": "code",
   "execution_count": 4,
   "metadata": {},
   "outputs": [],
   "source": [
    "def add_question_ids(df):\n",
    "    def extract_metaculus_id(url):\n",
    "        if pd.isna(url):\n",
    "            return None\n",
    "        pattern = r'/questions/(\\d+)/'\n",
    "        match = re.search(pattern, str(url))\n",
    "        return match.group(1) if match else None\n",
    "    \n",
    "    # Create new column with extracted IDs\n",
    "    df['cp_post_id'] = df['link'].apply(extract_metaculus_id)\n",
    "    return df\n",
    "\n",
    "fabQuestions = add_question_ids(fabQuestions)\n",
    "\n",
    "# Take only the questions that were also on main feed (cp_post_id not None)\n",
    "fabQuestions = fabQuestions[~fabQuestions['cp_post_id'].isna()]"
   ]
  },
  {
   "cell_type": "code",
   "execution_count": 5,
   "metadata": {},
   "outputs": [],
   "source": [
    "# Merge scores and fabQuestions on question title\n",
    "merged = scores[['bot_question_id', 'question_title', 'cp_reveal_time']].merge(fabQuestions[['question_title', 'cp_post_id']], on='question_title', how='right')\n",
    "\n",
    "# Drop duplicates\n",
    "merged = merged.drop_duplicates()\n",
    "\n",
    "# Cast merged['bot_question_id'] to int\n",
    "merged['bot_question_id'] = merged['bot_question_id'].astype('Int64')"
   ]
  },
  {
   "cell_type": "code",
   "execution_count": 6,
   "metadata": {},
   "outputs": [
    {
     "data": {
      "text/html": [
       "<div>\n",
       "<style scoped>\n",
       "    .dataframe tbody tr th:only-of-type {\n",
       "        vertical-align: middle;\n",
       "    }\n",
       "\n",
       "    .dataframe tbody tr th {\n",
       "        vertical-align: top;\n",
       "    }\n",
       "\n",
       "    .dataframe thead th {\n",
       "        text-align: right;\n",
       "    }\n",
       "</style>\n",
       "<table border=\"1\" class=\"dataframe\">\n",
       "  <thead>\n",
       "    <tr style=\"text-align: right;\">\n",
       "      <th></th>\n",
       "      <th>bot_question_id</th>\n",
       "      <th>question_title</th>\n",
       "      <th>cp_reveal_time</th>\n",
       "      <th>cp_post_id</th>\n",
       "    </tr>\n",
       "  </thead>\n",
       "  <tbody>\n",
       "    <tr>\n",
       "      <th>0</th>\n",
       "      <td>28922</td>\n",
       "      <td>Will a senolytic therapy be approved for comme...</td>\n",
       "      <td>2024-10-22 14:30:00+00</td>\n",
       "      <td>1621</td>\n",
       "    </tr>\n",
       "    <tr>\n",
       "      <th>140</th>\n",
       "      <td>28923</td>\n",
       "      <td>Will a nuclear weapon be detonated as an act o...</td>\n",
       "      <td>2024-10-22 14:30:00+00</td>\n",
       "      <td>4779</td>\n",
       "    </tr>\n",
       "    <tr>\n",
       "      <th>285</th>\n",
       "      <td>28924</td>\n",
       "      <td>Will a book written by a language model make t...</td>\n",
       "      <td>2024-10-22 14:30:00+00</td>\n",
       "      <td>5587</td>\n",
       "    </tr>\n",
       "    <tr>\n",
       "      <th>425</th>\n",
       "      <td>28935</td>\n",
       "      <td>On October 31, 2024, will Nvidia's market capi...</td>\n",
       "      <td>2024-10-22 14:30:00+00</td>\n",
       "      <td>24806</td>\n",
       "    </tr>\n",
       "    <tr>\n",
       "      <th>570</th>\n",
       "      <td>28959</td>\n",
       "      <td>Will the Liberal Democratic Party win a majori...</td>\n",
       "      <td>2024-10-23 14:30:00+00</td>\n",
       "      <td>28972</td>\n",
       "    </tr>\n",
       "  </tbody>\n",
       "</table>\n",
       "</div>"
      ],
      "text/plain": [
       "     bot_question_id                                     question_title  \\\n",
       "0              28922  Will a senolytic therapy be approved for comme...   \n",
       "140            28923  Will a nuclear weapon be detonated as an act o...   \n",
       "285            28924  Will a book written by a language model make t...   \n",
       "425            28935  On October 31, 2024, will Nvidia's market capi...   \n",
       "570            28959  Will the Liberal Democratic Party win a majori...   \n",
       "\n",
       "             cp_reveal_time cp_post_id  \n",
       "0    2024-10-22 14:30:00+00       1621  \n",
       "140  2024-10-22 14:30:00+00       4779  \n",
       "285  2024-10-22 14:30:00+00       5587  \n",
       "425  2024-10-22 14:30:00+00      24806  \n",
       "570  2024-10-23 14:30:00+00      28972  "
      ]
     },
     "execution_count": 6,
     "metadata": {},
     "output_type": "execute_result"
    }
   ],
   "source": [
    "# Show head of merged data where cp_question_id is not null\n",
    "merged[~merged['cp_post_id'].isnull()].head()"
   ]
  },
  {
   "cell_type": "code",
   "execution_count": 7,
   "metadata": {},
   "outputs": [
    {
     "data": {
      "text/plain": [
       "(15, 4)"
      ]
     },
     "execution_count": 7,
     "metadata": {},
     "output_type": "execute_result"
    }
   ],
   "source": [
    "# Did every cp_question_id get a bot_question_id? Show me rows where bot_question_id is null\n",
    "nomatch = merged[merged['bot_question_id'].isnull()]\n",
    "\n",
    "nomatch.shape"
   ]
  },
  {
   "cell_type": "code",
   "execution_count": 8,
   "metadata": {},
   "outputs": [
    {
     "data": {
      "text/plain": [
       "(154, 4)"
      ]
     },
     "execution_count": 8,
     "metadata": {},
     "output_type": "execute_result"
    }
   ],
   "source": [
    "merged.shape"
   ]
  },
  {
   "cell_type": "code",
   "execution_count": 9,
   "metadata": {},
   "outputs": [
    {
     "data": {
      "text/html": [
       "<div>\n",
       "<style scoped>\n",
       "    .dataframe tbody tr th:only-of-type {\n",
       "        vertical-align: middle;\n",
       "    }\n",
       "\n",
       "    .dataframe tbody tr th {\n",
       "        vertical-align: top;\n",
       "    }\n",
       "\n",
       "    .dataframe thead th {\n",
       "        text-align: right;\n",
       "    }\n",
       "</style>\n",
       "<table border=\"1\" class=\"dataframe\">\n",
       "  <thead>\n",
       "    <tr style=\"text-align: right;\">\n",
       "      <th></th>\n",
       "      <th>bot_question_id</th>\n",
       "      <th>question_title</th>\n",
       "      <th>cp_reveal_time</th>\n",
       "      <th>cp_post_id</th>\n",
       "    </tr>\n",
       "  </thead>\n",
       "  <tbody>\n",
       "    <tr>\n",
       "      <th>5055</th>\n",
       "      <td>&lt;NA&gt;</td>\n",
       "      <td>Will the US State Department approve more than...</td>\n",
       "      <td>NaN</td>\n",
       "      <td>29028</td>\n",
       "    </tr>\n",
       "    <tr>\n",
       "      <th>6126</th>\n",
       "      <td>&lt;NA&gt;</td>\n",
       "      <td>Will BirdCast report 1 billion birds flying ov...</td>\n",
       "      <td>NaN</td>\n",
       "      <td>28704</td>\n",
       "    </tr>\n",
       "    <tr>\n",
       "      <th>7942</th>\n",
       "      <td>&lt;NA&gt;</td>\n",
       "      <td>Before December 1, 2024, will laws be in place...</td>\n",
       "      <td>NaN</td>\n",
       "      <td>2788</td>\n",
       "    </tr>\n",
       "    <tr>\n",
       "      <th>12383</th>\n",
       "      <td>&lt;NA&gt;</td>\n",
       "      <td>Will the US sanction Venezuelan oil again by 2...</td>\n",
       "      <td>NaN</td>\n",
       "      <td>20557</td>\n",
       "    </tr>\n",
       "    <tr>\n",
       "      <th>16869</th>\n",
       "      <td>&lt;NA&gt;</td>\n",
       "      <td>Will Ukraine use ATACMS to strike deep within ...</td>\n",
       "      <td>NaN</td>\n",
       "      <td>30251</td>\n",
       "    </tr>\n",
       "  </tbody>\n",
       "</table>\n",
       "</div>"
      ],
      "text/plain": [
       "       bot_question_id                                     question_title  \\\n",
       "5055              <NA>  Will the US State Department approve more than...   \n",
       "6126              <NA>  Will BirdCast report 1 billion birds flying ov...   \n",
       "7942              <NA>  Before December 1, 2024, will laws be in place...   \n",
       "12383             <NA>  Will the US sanction Venezuelan oil again by 2...   \n",
       "16869             <NA>  Will Ukraine use ATACMS to strike deep within ...   \n",
       "\n",
       "      cp_reveal_time cp_post_id  \n",
       "5055             NaN      29028  \n",
       "6126             NaN      28704  \n",
       "7942             NaN       2788  \n",
       "12383            NaN      20557  \n",
       "16869            NaN      30251  "
      ]
     },
     "execution_count": 9,
     "metadata": {},
     "output_type": "execute_result"
    }
   ],
   "source": [
    "nomatch.head() # I think these don't match because they haven't resolved yet (i.e. no scores)"
   ]
  },
  {
   "cell_type": "code",
   "execution_count": 10,
   "metadata": {},
   "outputs": [],
   "source": [
    "# Save merged data to csv\n",
    "merged.to_csv('bot_to_main_feed_ids.csv', index=False)"
   ]
  },
  {
   "cell_type": "code",
   "execution_count": 11,
   "metadata": {},
   "outputs": [
    {
     "data": {
      "text/html": [
       "<div>\n",
       "<style scoped>\n",
       "    .dataframe tbody tr th:only-of-type {\n",
       "        vertical-align: middle;\n",
       "    }\n",
       "\n",
       "    .dataframe tbody tr th {\n",
       "        vertical-align: top;\n",
       "    }\n",
       "\n",
       "    .dataframe thead th {\n",
       "        text-align: right;\n",
       "    }\n",
       "</style>\n",
       "<table border=\"1\" class=\"dataframe\">\n",
       "  <thead>\n",
       "    <tr style=\"text-align: right;\">\n",
       "      <th></th>\n",
       "      <th>bot_question_id</th>\n",
       "      <th>question_title</th>\n",
       "      <th>cp_reveal_time</th>\n",
       "      <th>cp_post_id</th>\n",
       "    </tr>\n",
       "  </thead>\n",
       "  <tbody>\n",
       "    <tr>\n",
       "      <th>11178</th>\n",
       "      <td>29718</td>\n",
       "      <td>Will the new Prime Minister of Iceland belong ...</td>\n",
       "      <td>2024-11-12 15:30:00+00</td>\n",
       "      <td>29807</td>\n",
       "    </tr>\n",
       "    <tr>\n",
       "      <th>11323</th>\n",
       "      <td>29719</td>\n",
       "      <td>Will the new Prime Minister of Iceland belong ...</td>\n",
       "      <td>2024-11-12 15:30:00+00</td>\n",
       "      <td>29807</td>\n",
       "    </tr>\n",
       "    <tr>\n",
       "      <th>11468</th>\n",
       "      <td>29720</td>\n",
       "      <td>Will the new Prime Minister of Iceland belong ...</td>\n",
       "      <td>2024-11-12 15:30:00+00</td>\n",
       "      <td>29807</td>\n",
       "    </tr>\n",
       "    <tr>\n",
       "      <th>11623</th>\n",
       "      <td>29721</td>\n",
       "      <td>Will the new Prime Minister of Iceland belong ...</td>\n",
       "      <td>2024-11-12 15:30:00+00</td>\n",
       "      <td>29807</td>\n",
       "    </tr>\n",
       "  </tbody>\n",
       "</table>\n",
       "</div>"
      ],
      "text/plain": [
       "       bot_question_id                                     question_title  \\\n",
       "11178            29718  Will the new Prime Minister of Iceland belong ...   \n",
       "11323            29719  Will the new Prime Minister of Iceland belong ...   \n",
       "11468            29720  Will the new Prime Minister of Iceland belong ...   \n",
       "11623            29721  Will the new Prime Minister of Iceland belong ...   \n",
       "\n",
       "               cp_reveal_time cp_post_id  \n",
       "11178  2024-11-12 15:30:00+00      29807  \n",
       "11323  2024-11-12 15:30:00+00      29807  \n",
       "11468  2024-11-12 15:30:00+00      29807  \n",
       "11623  2024-11-12 15:30:00+00      29807  "
      ]
     },
     "execution_count": 11,
     "metadata": {},
     "output_type": "execute_result"
    }
   ],
   "source": [
    "# Question title containing 'Iceland' ?\n",
    "merged[merged['question_title'].str.contains('Iceland')]"
   ]
  }
 ],
 "metadata": {
  "kernelspec": {
   "display_name": "usr",
   "language": "python",
   "name": "python3"
  },
  "language_info": {
   "codemirror_mode": {
    "name": "ipython",
    "version": 3
   },
   "file_extension": ".py",
   "mimetype": "text/x-python",
   "name": "python",
   "nbconvert_exporter": "python",
   "pygments_lexer": "ipython3",
   "version": "3.12.4"
  }
 },
 "nbformat": 4,
 "nbformat_minor": 2
}
