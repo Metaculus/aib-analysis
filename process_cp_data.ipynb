{
 "cells": [
  {
   "cell_type": "code",
   "execution_count": 52,
   "metadata": {},
   "outputs": [],
   "source": [
    "# @title Import libraries\n",
    "import pandas as pd\n",
    "import re\n",
    "import requests"
   ]
  },
  {
   "cell_type": "code",
   "execution_count": 42,
   "metadata": {},
   "outputs": [],
   "source": [
    "# Scores data contains question metadata\n",
    "scores = pd.read_csv('scores/bots_score_data_q4.csv')\n",
    "\n",
    "fabQuestions = pd.read_csv('scores/Q4 2024 FAB - questions list - FINAL BOT.csv')"
   ]
  },
  {
   "cell_type": "code",
   "execution_count": 43,
   "metadata": {},
   "outputs": [],
   "source": [
    "# Rename first column to 'link'\n",
    "fabQuestions = fabQuestions.rename(columns={fabQuestions.columns[0]: 'link', 'title': 'question_title'})\n",
    "scores = scores.rename(columns={'question_id': 'bot_question_id'})"
   ]
  },
  {
   "cell_type": "code",
   "execution_count": 44,
   "metadata": {},
   "outputs": [],
   "source": [
    "def add_question_ids(df):\n",
    "    def extract_metaculus_id(url):\n",
    "        if pd.isna(url):\n",
    "            return None\n",
    "        pattern = r'/questions/(\\d+)/'\n",
    "        match = re.search(pattern, str(url))\n",
    "        return match.group(1) if match else None\n",
    "    \n",
    "    # Create new column with extracted IDs\n",
    "    df['cp_question_id'] = df['link'].apply(extract_metaculus_id)\n",
    "    return df\n",
    "\n",
    "fabQuestions = add_question_ids(fabQuestions)\n",
    "\n",
    "# Take only the questions that were also on main feed (cp_question_id not None)\n",
    "fabQuestions = fabQuestions[~fabQuestions['cp_question_id'].isna()]"
   ]
  },
  {
   "cell_type": "code",
   "execution_count": 45,
   "metadata": {},
   "outputs": [],
   "source": [
    "# Merge scores and fabQuestions on question title\n",
    "merged = scores[['bot_question_id', 'question_title', 'cp_reveal_time']].merge(fabQuestions[['question_title', 'cp_question_id']], on='question_title', how='right')\n",
    "\n",
    "# Drop duplicates\n",
    "merged = merged.drop_duplicates()\n",
    "\n",
    "# Cast merged['bot_question_id'] to int\n",
    "merged['bot_question_id'] = merged['bot_question_id'].astype('Int64')"
   ]
  },
  {
   "cell_type": "code",
   "execution_count": 46,
   "metadata": {},
   "outputs": [
    {
     "data": {
      "text/html": [
       "<div>\n",
       "<style scoped>\n",
       "    .dataframe tbody tr th:only-of-type {\n",
       "        vertical-align: middle;\n",
       "    }\n",
       "\n",
       "    .dataframe tbody tr th {\n",
       "        vertical-align: top;\n",
       "    }\n",
       "\n",
       "    .dataframe thead th {\n",
       "        text-align: right;\n",
       "    }\n",
       "</style>\n",
       "<table border=\"1\" class=\"dataframe\">\n",
       "  <thead>\n",
       "    <tr style=\"text-align: right;\">\n",
       "      <th></th>\n",
       "      <th>bot_question_id</th>\n",
       "      <th>question_title</th>\n",
       "      <th>cp_reveal_time</th>\n",
       "      <th>cp_question_id</th>\n",
       "    </tr>\n",
       "  </thead>\n",
       "  <tbody>\n",
       "    <tr>\n",
       "      <th>0</th>\n",
       "      <td>28922</td>\n",
       "      <td>Will a senolytic therapy be approved for comme...</td>\n",
       "      <td>2024-10-22 14:30:00+00</td>\n",
       "      <td>1621</td>\n",
       "    </tr>\n",
       "    <tr>\n",
       "      <th>140</th>\n",
       "      <td>28923</td>\n",
       "      <td>Will a nuclear weapon be detonated as an act o...</td>\n",
       "      <td>2024-10-22 14:30:00+00</td>\n",
       "      <td>4779</td>\n",
       "    </tr>\n",
       "    <tr>\n",
       "      <th>285</th>\n",
       "      <td>28924</td>\n",
       "      <td>Will a book written by a language model make t...</td>\n",
       "      <td>2024-10-22 14:30:00+00</td>\n",
       "      <td>5587</td>\n",
       "    </tr>\n",
       "    <tr>\n",
       "      <th>425</th>\n",
       "      <td>28935</td>\n",
       "      <td>On October 31, 2024, will Nvidia's market capi...</td>\n",
       "      <td>2024-10-22 14:30:00+00</td>\n",
       "      <td>24806</td>\n",
       "    </tr>\n",
       "    <tr>\n",
       "      <th>570</th>\n",
       "      <td>28959</td>\n",
       "      <td>Will the Liberal Democratic Party win a majori...</td>\n",
       "      <td>2024-10-23 14:30:00+00</td>\n",
       "      <td>28972</td>\n",
       "    </tr>\n",
       "  </tbody>\n",
       "</table>\n",
       "</div>"
      ],
      "text/plain": [
       "     bot_question_id                                     question_title  \\\n",
       "0              28922  Will a senolytic therapy be approved for comme...   \n",
       "140            28923  Will a nuclear weapon be detonated as an act o...   \n",
       "285            28924  Will a book written by a language model make t...   \n",
       "425            28935  On October 31, 2024, will Nvidia's market capi...   \n",
       "570            28959  Will the Liberal Democratic Party win a majori...   \n",
       "\n",
       "             cp_reveal_time cp_question_id  \n",
       "0    2024-10-22 14:30:00+00           1621  \n",
       "140  2024-10-22 14:30:00+00           4779  \n",
       "285  2024-10-22 14:30:00+00           5587  \n",
       "425  2024-10-22 14:30:00+00          24806  \n",
       "570  2024-10-23 14:30:00+00          28972  "
      ]
     },
     "execution_count": 46,
     "metadata": {},
     "output_type": "execute_result"
    }
   ],
   "source": [
    "# Show head of merged data where cp_question_id is not null\n",
    "merged[~merged['cp_question_id'].isnull()].head()"
   ]
  },
  {
   "cell_type": "code",
   "execution_count": 47,
   "metadata": {},
   "outputs": [
    {
     "data": {
      "text/plain": [
       "(52, 4)"
      ]
     },
     "execution_count": 47,
     "metadata": {},
     "output_type": "execute_result"
    }
   ],
   "source": [
    "# Did every cp_question_id get a bot_question_id? Show me rows where bot_question_id is null\n",
    "nomatch = merged[merged['bot_question_id'].isnull()]\n",
    "\n",
    "nomatch.shape"
   ]
  },
  {
   "cell_type": "code",
   "execution_count": 48,
   "metadata": {},
   "outputs": [
    {
     "data": {
      "text/plain": [
       "(154, 4)"
      ]
     },
     "execution_count": 48,
     "metadata": {},
     "output_type": "execute_result"
    }
   ],
   "source": [
    "merged.shape"
   ]
  },
  {
   "cell_type": "code",
   "execution_count": null,
   "metadata": {},
   "outputs": [
    {
     "data": {
      "text/html": [
       "<div>\n",
       "<style scoped>\n",
       "    .dataframe tbody tr th:only-of-type {\n",
       "        vertical-align: middle;\n",
       "    }\n",
       "\n",
       "    .dataframe tbody tr th {\n",
       "        vertical-align: top;\n",
       "    }\n",
       "\n",
       "    .dataframe thead th {\n",
       "        text-align: right;\n",
       "    }\n",
       "</style>\n",
       "<table border=\"1\" class=\"dataframe\">\n",
       "  <thead>\n",
       "    <tr style=\"text-align: right;\">\n",
       "      <th></th>\n",
       "      <th>bot_question_id</th>\n",
       "      <th>question_title</th>\n",
       "      <th>cp_reveal_time</th>\n",
       "      <th>cp_question_id</th>\n",
       "    </tr>\n",
       "  </thead>\n",
       "  <tbody>\n",
       "    <tr>\n",
       "      <th>1705</th>\n",
       "      <td>&lt;NA&gt;</td>\n",
       "      <td>Will at least 200 Benin Bronzes go from the Br...</td>\n",
       "      <td>NaN</td>\n",
       "      <td>13924</td>\n",
       "    </tr>\n",
       "    <tr>\n",
       "      <th>1861</th>\n",
       "      <td>&lt;NA&gt;</td>\n",
       "      <td>Will the UK Abolish the Two-Child Benefit Cap ...</td>\n",
       "      <td>NaN</td>\n",
       "      <td>26616</td>\n",
       "    </tr>\n",
       "    <tr>\n",
       "      <th>2757</th>\n",
       "      <td>&lt;NA&gt;</td>\n",
       "      <td>Will the Russian government officially ban You...</td>\n",
       "      <td>NaN</td>\n",
       "      <td>28658</td>\n",
       "    </tr>\n",
       "    <tr>\n",
       "      <th>3553</th>\n",
       "      <td>&lt;NA&gt;</td>\n",
       "      <td>Will the U.S. have passed legislation that req...</td>\n",
       "      <td>NaN</td>\n",
       "      <td>17373</td>\n",
       "    </tr>\n",
       "    <tr>\n",
       "      <th>3554</th>\n",
       "      <td>&lt;NA&gt;</td>\n",
       "      <td>Will SpaceX re-use a Starship booster before J...</td>\n",
       "      <td>NaN</td>\n",
       "      <td>29222</td>\n",
       "    </tr>\n",
       "  </tbody>\n",
       "</table>\n",
       "</div>"
      ],
      "text/plain": [
       "      bot_question_id                                     question_title  \\\n",
       "1705             <NA>  Will at least 200 Benin Bronzes go from the Br...   \n",
       "1861             <NA>  Will the UK Abolish the Two-Child Benefit Cap ...   \n",
       "2757             <NA>  Will the Russian government officially ban You...   \n",
       "3553             <NA>  Will the U.S. have passed legislation that req...   \n",
       "3554             <NA>  Will SpaceX re-use a Starship booster before J...   \n",
       "\n",
       "     cp_reveal_time cp_question_id  \n",
       "1705            NaN          13924  \n",
       "1861            NaN          26616  \n",
       "2757            NaN          28658  \n",
       "3553            NaN          17373  \n",
       "3554            NaN          29222  "
      ]
     },
     "execution_count": 49,
     "metadata": {},
     "output_type": "execute_result"
    }
   ],
   "source": [
    "nomatch.head() # I think these don't match because they haven't resolved yet (i.e. no scores)"
   ]
  },
  {
   "cell_type": "code",
   "execution_count": 51,
   "metadata": {},
   "outputs": [],
   "source": [
    "# Save merged data to csv\n",
    "merged.to_csv('bot_to_main_feed_ids.csv', index=False)"
   ]
  }
 ],
 "metadata": {
  "kernelspec": {
   "display_name": "usr",
   "language": "python",
   "name": "python3"
  },
  "language_info": {
   "codemirror_mode": {
    "name": "ipython",
    "version": 3
   },
   "file_extension": ".py",
   "mimetype": "text/x-python",
   "name": "python",
   "nbconvert_exporter": "python",
   "pygments_lexer": "ipython3",
   "version": "3.12.7"
  }
 },
 "nbformat": 4,
 "nbformat_minor": 2
}
